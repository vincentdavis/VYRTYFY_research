{
 "cells": [
  {
   "cell_type": "markdown",
   "metadata": {},
   "source": []
  },
  {
   "cell_type": "code",
   "execution_count": null,
   "metadata": {},
   "outputs": [],
   "source": [
    "%load_ext autoreload\n",
    "%autoreload 2\n",
    "import sys\n",
    "sys.path.append(\"..//gpsfun\")\n",
    "from readers import gpsbabel\n",
    "from tracks import Track\n",
    "\n",
    "fitfile = \"../tests/test_data/gpx/test_gpx_1.gpx\"\n",
    "df = gpsbabel(fitfile)\n",
    "\n",
    "t = Track(df=df)"
   ]
  },
  {
   "cell_type": "code",
   "execution_count": null,
   "metadata": {},
   "outputs": [],
   "source": [
    "import pandas as pd\n",
    "import sys\n",
    "sys.path.append(\"../gpsfun\")\n",
    "from pathlib import Path\n",
    "from readers import gpsbabel\n",
    "\n",
    "# parent_dir = Path(__file__).parent\n",
    "p = Path('../tests/test_data/zwift/ttt/').glob('**/*')\n",
    "afile = \"/Users/vincentdavis/Downloads/2020-08-20-11-50-54.fit\"\n",
    "df = gpsbabel(afile)\n",
    "df.to_csv(\"vincent.csv\")\n",
    "\n",
    "\n",
    "# for a in [f for f in p if f.is_file()]:\n",
    "#     print(a)\n",
    "#     df = gpsbabel(str(a))\n",
    "#     df.to_csv(f\"{a.name}_.csv\")"
   ]
  },
  {
   "cell_type": "code",
   "execution_count": null,
   "metadata": {},
   "outputs": [],
   "source": [
    "\n",
    "\n",
    "import pandas as pd\n",
    "import sys\n",
    "sys.path.append(\"../gpsfun\")\n",
    "from pathlib import Path\n",
    "from readers import gpsbabel\n",
    "\n",
    "# parent_dir = Path(__file__).parent\n",
    "p = Path('/Users/vincentdavis/repo/GPS/VYRTYFY_research/zwift').glob('**/*')\n",
    "for a in [f for f in p if f.is_file() and f.suffix=='.fit']:\n",
    "    print(a)\n",
    "    df = gpsbabel(str(a))\n",
    "    df.to_csv(f\"{a.name}_.csv\")"
   ]
  },
  {
   "cell_type": "code",
   "execution_count": null,
   "metadata": {},
   "outputs": [],
   "source": []
  }
 ],
 "metadata": {
  "kernelspec": {
   "display_name": "Python 3",
   "language": "python",
   "name": "python3"
  },
  "language_info": {
   "codemirror_mode": {
    "name": "ipython",
    "version": 3
   },
   "file_extension": ".py",
   "mimetype": "text/x-python",
   "name": "python",
   "nbconvert_exporter": "python",
   "pygments_lexer": "ipython3",
   "version": "3.8.0"
  }
 },
 "nbformat": 4,
 "nbformat_minor": 4
}
