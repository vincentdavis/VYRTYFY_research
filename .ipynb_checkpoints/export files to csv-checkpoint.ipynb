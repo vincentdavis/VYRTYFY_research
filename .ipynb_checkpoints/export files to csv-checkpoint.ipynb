{
 "cells": [
  {
   "cell_type": "code",
   "execution_count": 31,
   "metadata": {},
   "outputs": [
    {
     "name": "stdout",
     "output_type": "stream",
     "text": [
      "The autoreload extension is already loaded. To reload it, use:\n",
      "  %reload_ext autoreload\n"
     ]
    }
   ],
   "source": [
    "%load_ext autoreload\n",
    "%autoreload 2\n",
    "import sys\n",
    "sys.path.append(\"..//gpsfun\")\n",
    "from readers import gpsbabel\n",
    "from tracks import Track\n",
    "from \n",
    "\n",
    "fitfile = \"../tests/test_data/gpx/test_gpx_1.gpx\"\n",
    "df = gpsbabel(fitfile)\n",
    "\n",
    "t = Track(df=df)"
   ]
  },
  {
   "cell_type": "code",
   "execution_count": 4,
   "metadata": {},
   "outputs": [],
   "source": [
    "import pandas as pd\n",
    "import sys\n",
    "sys.path.append(\"../gpsfun\")\n",
    "from pathlib import Path\n",
    "from readers import gpsbabel\n",
    "\n",
    "# parent_dir = Path(__file__).parent\n",
    "p = Path('../tests/test_data/zwift/ttt/').glob('**/*')\n",
    "afile = \"/Users/vincentdavis/Downloads/2020-08-20-11-50-54.fit\"\n",
    "df = gpsbabel(afile)\n",
    "df.to_csv(\"vincent.csv\")\n",
    "\n",
    "\n",
    "# for a in [f for f in p if f.is_file()]:\n",
    "#     print(a)\n",
    "#     df = gpsbabel(str(a))\n",
    "#     df.to_csv(f\"{a.name}_.csv\")"
   ]
  },
  {
   "cell_type": "code",
   "execution_count": 3,
   "metadata": {},
   "outputs": [
    {
     "name": "stdout",
     "output_type": "stream",
     "text": [
      "/Users/vincentdavis/repo/GPS/VYRTYFY_research/zwift/Terns/2020-08-06-Samuel-G.fit\n",
      "/Users/vincentdavis/repo/GPS/VYRTYFY_research/zwift/Terns/2020-08-06-Thomas-B.fit\n",
      "/Users/vincentdavis/repo/GPS/VYRTYFY_research/zwift/Gulls/Originals/2020-7-3-Nate-F.fit\n",
      "/Users/vincentdavis/repo/GPS/VYRTYFY_research/zwift/Gulls/Originals/2020-8-20-Alex-H.fit\n",
      "/Users/vincentdavis/repo/GPS/VYRTYFY_research/zwift/Gulls/Originals/2020-08-20-Szatmari-D.fit\n",
      "/Users/vincentdavis/repo/GPS/VYRTYFY_research/zwift/Gulls/Originals/2020-08-20-Damian-V.fit\n",
      "/Users/vincentdavis/repo/GPS/VYRTYFY_research/zwift/Gulls/Originals/2020-08-06-Vincent-D.fit\n",
      "/Users/vincentdavis/repo/GPS/VYRTYFY_research/zwift/Gulls/Originals/2020-08-20-Ashleyo-O.fit\n",
      "/Users/vincentdavis/repo/GPS/VYRTYFY_research/zwift/Gulls/Originals/2020-08-20-Ryan-F.fit\n",
      "/Users/vincentdavis/repo/GPS/VYRTYFY_research/zwift/Gulls/Originals/2020-07-30-Tom-C.fit\n",
      "/Users/vincentdavis/repo/GPS/VYRTYFY_research/zwift/Gulls/Originals/2020-08-06-Ashley-O.fit\n",
      "/Users/vincentdavis/repo/GPS/VYRTYFY_research/zwift/Gulls/Originals/2020-07-30-Ashley-O.fit\n",
      "/Users/vincentdavis/repo/GPS/VYRTYFY_research/zwift/Gulls/Originals/2020-08-06-Damian-V.fit\n",
      "/Users/vincentdavis/repo/GPS/VYRTYFY_research/zwift/Gulls/Originals/2020-07-30-Damian-V.fit\n",
      "/Users/vincentdavis/repo/GPS/VYRTYFY_research/zwift/Gulls/Originals/2020-07-23-Nate-F.fit\n",
      "/Users/vincentdavis/repo/GPS/VYRTYFY_research/zwift/Gulls/Originals/2020-08-20-Tom-C.fit\n",
      "/Users/vincentdavis/repo/GPS/VYRTYFY_research/zwift/Gulls/Originals/2020-08-06-Nate-F.fit\n",
      "/Users/vincentdavis/repo/GPS/VYRTYFY_research/zwift/Gulls/Originals/2020-08-06-Tom-C.fit\n",
      "/Users/vincentdavis/repo/GPS/VYRTYFY_research/zwift/Gulls/Originals/2020-07-30-Alex-H.fit\n",
      "/Users/vincentdavis/repo/GPS/VYRTYFY_research/zwift/Gulls/Originals/2020-08-20-Vincent-D.fit\n",
      "/Users/vincentdavis/repo/GPS/VYRTYFY_research/zwift/Gulls/Originals/2020-08-06-Szatmari-D.fit\n",
      "/Users/vincentdavis/repo/GPS/VYRTYFY_research/zwift/Gulls/Originals/2020-08-06-Alex-H.fit\n"
     ]
    }
   ],
   "source": [
    "\n",
    "\n",
    "import pandas as pd\n",
    "import sys\n",
    "sys.path.append(\"../gpsfun\")\n",
    "from pathlib import Path\n",
    "from readers import gpsbabel\n",
    "\n",
    "# parent_dir = Path(__file__).parent\n",
    "p = Path('/Users/vincentdavis/repo/GPS/VYRTYFY_research/zwift').glob('**/*')\n",
    "for a in [f for f in p if f.is_file() and f.suffix=='.fit']:\n",
    "    print(a)\n",
    "    df = gpsbabel(str(a))\n",
    "    df.to_csv(f\"{a.name}_.csv\")"
   ]
  },
  {
   "cell_type": "code",
   "execution_count": null,
   "metadata": {},
   "outputs": [],
   "source": []
  }
 ],
 "metadata": {
  "kernelspec": {
   "display_name": "Python 3",
   "language": "python",
   "name": "python3"
  },
  "language_info": {
   "codemirror_mode": {
    "name": "ipython",
    "version": 3
   },
   "file_extension": ".py",
   "mimetype": "text/x-python",
   "name": "python",
   "nbconvert_exporter": "python",
   "pygments_lexer": "ipython3",
   "version": "3.8.0"
  }
 },
 "nbformat": 4,
 "nbformat_minor": 4
}
